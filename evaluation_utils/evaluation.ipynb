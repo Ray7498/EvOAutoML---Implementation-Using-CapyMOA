{
 "cells": [
  {
   "cell_type": "code",
   "execution_count": 1,
   "metadata": {
    "collapsed": true
   },
   "outputs": [],
   "source": [
    "from pathlib import Path\n",
    "import pandas as pd\n"
   ]
  },
  {
   "cell_type": "code",
   "execution_count": 56,
   "outputs": [],
   "source": [
    "evaluation_dir = Path(\"../results/classification/evaluation_ensemble/ensemble_evaluation\")\n",
    "\n",
    "data = pd.DataFrame()\n",
    "for idx, csv_path in enumerate(evaluation_dir.glob('./*/*.csv')):\n",
    "    if idx == 0:\n",
    "        data = pd.read_csv(str(csv_path))\n",
    "        #data['dataset'] = csv_path.stem\n",
    "    else:\n",
    "        data_new = pd.read_csv(str(csv_path))\n",
    "        #data_new['dataset'] = csv_path.stem\n",
    "        data = data.append(data_new)"
   ],
   "metadata": {
    "collapsed": false,
    "pycharm": {
     "name": "#%%\n"
    }
   }
  },
  {
   "cell_type": "code",
   "execution_count": 57,
   "outputs": [
    {
     "data": {
      "text/plain": "   Unnamed: 0  step           model         dataset    errors    r_times  \\\n0           0  1000  Hoeffding Tree  RBF(10,0.0001)  0.981982   4.684223   \n1           1  2000  Hoeffding Tree  RBF(10,0.0001)  0.987494  17.856928   \n2           2  3000  Hoeffding Tree  RBF(10,0.0001)  0.989330  32.938135   \n3           3  4000  Hoeffding Tree  RBF(10,0.0001)  0.990498  44.532113   \n4           4  5000  Hoeffding Tree  RBF(10,0.0001)  0.990798  57.573747   \n\n   memories  \n0  0.187305  \n1  0.187305  \n2  0.187305  \n3  0.187305  \n4  0.187305  ",
      "text/html": "<div>\n<style scoped>\n    .dataframe tbody tr th:only-of-type {\n        vertical-align: middle;\n    }\n\n    .dataframe tbody tr th {\n        vertical-align: top;\n    }\n\n    .dataframe thead th {\n        text-align: right;\n    }\n</style>\n<table border=\"1\" class=\"dataframe\">\n  <thead>\n    <tr style=\"text-align: right;\">\n      <th></th>\n      <th>Unnamed: 0</th>\n      <th>step</th>\n      <th>model</th>\n      <th>dataset</th>\n      <th>errors</th>\n      <th>r_times</th>\n      <th>memories</th>\n    </tr>\n  </thead>\n  <tbody>\n    <tr>\n      <th>0</th>\n      <td>0</td>\n      <td>1000</td>\n      <td>Hoeffding Tree</td>\n      <td>RBF(10,0.0001)</td>\n      <td>0.981982</td>\n      <td>4.684223</td>\n      <td>0.187305</td>\n    </tr>\n    <tr>\n      <th>1</th>\n      <td>1</td>\n      <td>2000</td>\n      <td>Hoeffding Tree</td>\n      <td>RBF(10,0.0001)</td>\n      <td>0.987494</td>\n      <td>17.856928</td>\n      <td>0.187305</td>\n    </tr>\n    <tr>\n      <th>2</th>\n      <td>2</td>\n      <td>3000</td>\n      <td>Hoeffding Tree</td>\n      <td>RBF(10,0.0001)</td>\n      <td>0.989330</td>\n      <td>32.938135</td>\n      <td>0.187305</td>\n    </tr>\n    <tr>\n      <th>3</th>\n      <td>3</td>\n      <td>4000</td>\n      <td>Hoeffding Tree</td>\n      <td>RBF(10,0.0001)</td>\n      <td>0.990498</td>\n      <td>44.532113</td>\n      <td>0.187305</td>\n    </tr>\n    <tr>\n      <th>4</th>\n      <td>4</td>\n      <td>5000</td>\n      <td>Hoeffding Tree</td>\n      <td>RBF(10,0.0001)</td>\n      <td>0.990798</td>\n      <td>57.573747</td>\n      <td>0.187305</td>\n    </tr>\n  </tbody>\n</table>\n</div>"
     },
     "execution_count": 57,
     "metadata": {},
     "output_type": "execute_result"
    }
   ],
   "source": [
    "data.head()"
   ],
   "metadata": {
    "collapsed": false,
    "pycharm": {
     "name": "#%%\n"
    }
   }
  },
  {
   "cell_type": "code",
   "execution_count": 58,
   "outputs": [
    {
     "name": "stdout",
     "output_type": "stream",
     "text": [
      "RBF(10,0.0001)\n",
      "RBF(50,0.0001)\n",
      "RBF(50,0.001)\n",
      "SEA(50)\n",
      "Hyperplane(50,0.001)\n",
      "Hyperplane(50, 0.0001)\n",
      "Agrawal(50,000)\n",
      "SINE()\n",
      "Covtype\n",
      "LED()\n",
      "SEA(50,000)\n",
      "RBF(10,0.001)\n",
      "Elec\n",
      "Agrawal(50)\n"
     ]
    }
   ],
   "source": [
    "datasets = list(data['dataset'].unique())\n",
    "models = list(data['model'].unique())\n",
    "\n",
    "new_data = {}\n",
    "new_data['dataset'] = []\n",
    "for model in models:\n",
    "    new_data['dataset'] = []\n",
    "    new_data[f'{model}__Time'] = []\n",
    "    new_data[f'{model}__Accuracy'] = []\n",
    "    new_data[f'{model}__std'] = []\n",
    "    new_data[f'{model}__Memory'] = []\n",
    "    new_data[f'{model}__Rank'] = []\n",
    "\n",
    "\n",
    "for dataset in datasets:\n",
    "    print(dataset)\n",
    "    dataset_data = data[data['dataset']==dataset]\n",
    "    max_step = dataset_data['step'].max()\n",
    "    ranks = dataset_data[(dataset_data['step'] == max_step)][['model','errors']]\n",
    "    ranks['rank'] = ranks['errors'].rank(method='max', ascending=False)\n",
    "\n",
    "    new_data['dataset'].append(dataset)\n",
    "    for model in models:\n",
    "        if list(dataset_data[(dataset_data['model']==model) & (dataset_data['step'] == max_step)]['r_times']) != []:\n",
    "            #print(dataset_data[(dataset_data['model']==model) & (dataset_data['step'] == max_step)]['r_times'])\n",
    "            time = \"%.3f\" % float(dataset_data[(dataset_data['model']==model) & (dataset_data['step'] == max_step)]['r_times'])\n",
    "            accuracy = \"%.4f\" % float(dataset_data[(dataset_data['model']==model) & (dataset_data['step'] == max_step)]['errors'])\n",
    "            std = \"%.2f\" % float(dataset_data[(dataset_data['model']==model)]['errors'].std())\n",
    "            memory = \"%.3f\" % float(dataset_data[(dataset_data['model']==model)]['memories'].mean())\n",
    "            new_data[f'{model}__Time'].append(time)\n",
    "            new_data[f'{model}__Accuracy'].append(accuracy)\n",
    "            new_data[f'{model}__std'].append(std)\n",
    "            new_data[f'{model}__Memory'].append(memory)\n",
    "            new_data[f'{model}__Rank'].append(float(ranks[(ranks['model']==model)]['rank']))\n",
    "        else :\n",
    "            new_data[f'{model}__Time'].append(0)\n",
    "            new_data[f'{model}__Accuracy'].append(0)\n",
    "            new_data[f'{model}__std'].append(0)\n",
    "            new_data[f'{model}__Memory'].append(0)\n",
    "            new_data[f'{model}__Rank'].append(99)"
   ],
   "metadata": {
    "collapsed": false,
    "pycharm": {
     "name": "#%%\n"
    }
   }
  },
  {
   "cell_type": "code",
   "execution_count": 59,
   "outputs": [],
   "source": [
    "test = pd.DataFrame(new_data)"
   ],
   "metadata": {
    "collapsed": false,
    "pycharm": {
     "name": "#%%\n"
    }
   }
  },
  {
   "cell_type": "code",
   "execution_count": 62,
   "outputs": [
    {
     "data": {
      "text/plain": "       Hoeffding Tree__Rank  Bagging__Rank  ARF__Rank  \\\ncount             14.000000      14.000000  14.000000   \nmean              14.000000      12.142857  11.357143   \nstd               24.491757      25.050279  25.391116   \nmin                6.000000       3.000000   1.000000   \n25%                6.250000       4.000000   3.250000   \n50%                8.000000       6.500000   4.000000   \n75%                8.750000       7.000000   6.750000   \nmax               99.000000      99.000000  99.000000   \n\n       EvoAutoML Bagging Oldest__Rank  Logistic Regression__Rank  KNN__Rank  \\\ncount                       14.000000                  14.000000  14.000000   \nmean                        10.642857                  14.500000  13.571429   \nstd                         25.512010                  24.613161  24.923620   \nmin                          1.000000                   1.000000   1.000000   \n25%                          2.250000                   6.000000   2.750000   \n50%                          3.500000                  11.000000   9.000000   \n75%                          5.750000                  11.000000  10.000000   \nmax                         99.000000                  99.000000  99.000000   \n\n       SRPC__Rank  Leveraging Bagging__Rank  EvoAutoML Bagging Best__Rank  \\\ncount   14.000000                 14.000000                     14.000000   \nmean    20.357143                  9.857143                      9.928571   \nstd     33.401076                 25.722953                     25.658899   \nmin      3.000000                  1.000000                      2.000000   \n25%      5.250000                  1.250000                      2.000000   \n50%      8.500000                  2.500000                      3.000000   \n75%      9.750000                  5.000000                      4.000000   \nmax     99.000000                 99.000000                     99.000000   \n\n       HAT__Rank  GaussianNB__Rank  \ncount  14.000000         14.000000  \nmean   12.071429         14.928571  \nstd    25.113479         24.332518  \nmin     2.000000          2.000000  \n25%     3.500000          8.250000  \n50%     6.000000         10.000000  \n75%     7.750000         10.000000  \nmax    99.000000         99.000000  ",
      "text/html": "<div>\n<style scoped>\n    .dataframe tbody tr th:only-of-type {\n        vertical-align: middle;\n    }\n\n    .dataframe tbody tr th {\n        vertical-align: top;\n    }\n\n    .dataframe thead th {\n        text-align: right;\n    }\n</style>\n<table border=\"1\" class=\"dataframe\">\n  <thead>\n    <tr style=\"text-align: right;\">\n      <th></th>\n      <th>Hoeffding Tree__Rank</th>\n      <th>Bagging__Rank</th>\n      <th>ARF__Rank</th>\n      <th>EvoAutoML Bagging Oldest__Rank</th>\n      <th>Logistic Regression__Rank</th>\n      <th>KNN__Rank</th>\n      <th>SRPC__Rank</th>\n      <th>Leveraging Bagging__Rank</th>\n      <th>EvoAutoML Bagging Best__Rank</th>\n      <th>HAT__Rank</th>\n      <th>GaussianNB__Rank</th>\n    </tr>\n  </thead>\n  <tbody>\n    <tr>\n      <th>count</th>\n      <td>14.000000</td>\n      <td>14.000000</td>\n      <td>14.000000</td>\n      <td>14.000000</td>\n      <td>14.000000</td>\n      <td>14.000000</td>\n      <td>14.000000</td>\n      <td>14.000000</td>\n      <td>14.000000</td>\n      <td>14.000000</td>\n      <td>14.000000</td>\n    </tr>\n    <tr>\n      <th>mean</th>\n      <td>14.000000</td>\n      <td>12.142857</td>\n      <td>11.357143</td>\n      <td>10.642857</td>\n      <td>14.500000</td>\n      <td>13.571429</td>\n      <td>20.357143</td>\n      <td>9.857143</td>\n      <td>9.928571</td>\n      <td>12.071429</td>\n      <td>14.928571</td>\n    </tr>\n    <tr>\n      <th>std</th>\n      <td>24.491757</td>\n      <td>25.050279</td>\n      <td>25.391116</td>\n      <td>25.512010</td>\n      <td>24.613161</td>\n      <td>24.923620</td>\n      <td>33.401076</td>\n      <td>25.722953</td>\n      <td>25.658899</td>\n      <td>25.113479</td>\n      <td>24.332518</td>\n    </tr>\n    <tr>\n      <th>min</th>\n      <td>6.000000</td>\n      <td>3.000000</td>\n      <td>1.000000</td>\n      <td>1.000000</td>\n      <td>1.000000</td>\n      <td>1.000000</td>\n      <td>3.000000</td>\n      <td>1.000000</td>\n      <td>2.000000</td>\n      <td>2.000000</td>\n      <td>2.000000</td>\n    </tr>\n    <tr>\n      <th>25%</th>\n      <td>6.250000</td>\n      <td>4.000000</td>\n      <td>3.250000</td>\n      <td>2.250000</td>\n      <td>6.000000</td>\n      <td>2.750000</td>\n      <td>5.250000</td>\n      <td>1.250000</td>\n      <td>2.000000</td>\n      <td>3.500000</td>\n      <td>8.250000</td>\n    </tr>\n    <tr>\n      <th>50%</th>\n      <td>8.000000</td>\n      <td>6.500000</td>\n      <td>4.000000</td>\n      <td>3.500000</td>\n      <td>11.000000</td>\n      <td>9.000000</td>\n      <td>8.500000</td>\n      <td>2.500000</td>\n      <td>3.000000</td>\n      <td>6.000000</td>\n      <td>10.000000</td>\n    </tr>\n    <tr>\n      <th>75%</th>\n      <td>8.750000</td>\n      <td>7.000000</td>\n      <td>6.750000</td>\n      <td>5.750000</td>\n      <td>11.000000</td>\n      <td>10.000000</td>\n      <td>9.750000</td>\n      <td>5.000000</td>\n      <td>4.000000</td>\n      <td>7.750000</td>\n      <td>10.000000</td>\n    </tr>\n    <tr>\n      <th>max</th>\n      <td>99.000000</td>\n      <td>99.000000</td>\n      <td>99.000000</td>\n      <td>99.000000</td>\n      <td>99.000000</td>\n      <td>99.000000</td>\n      <td>99.000000</td>\n      <td>99.000000</td>\n      <td>99.000000</td>\n      <td>99.000000</td>\n      <td>99.000000</td>\n    </tr>\n  </tbody>\n</table>\n</div>"
     },
     "execution_count": 62,
     "metadata": {},
     "output_type": "execute_result"
    }
   ],
   "source": [
    "test.describe()\n"
   ],
   "metadata": {
    "collapsed": false,
    "pycharm": {
     "name": "#%%\n"
    }
   }
  },
  {
   "cell_type": "code",
   "execution_count": null,
   "outputs": [],
   "source": [],
   "metadata": {
    "collapsed": false,
    "pycharm": {
     "name": "#%%\n"
    }
   }
  }
 ],
 "metadata": {
  "kernelspec": {
   "display_name": "Python 3",
   "language": "python",
   "name": "python3"
  },
  "language_info": {
   "codemirror_mode": {
    "name": "ipython",
    "version": 2
   },
   "file_extension": ".py",
   "mimetype": "text/x-python",
   "name": "python",
   "nbconvert_exporter": "python",
   "pygments_lexer": "ipython2",
   "version": "2.7.6"
  }
 },
 "nbformat": 4,
 "nbformat_minor": 0
}